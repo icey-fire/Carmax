{
 "cells": [
  {
   "cell_type": "code",
   "execution_count": 1,
   "metadata": {},
   "outputs": [],
   "source": [
    "import pandas as pd"
   ]
  },
  {
   "cell_type": "code",
   "execution_count": 16,
   "metadata": {},
   "outputs": [],
   "source": [
    "df1 = pd.read_csv(\"source/info_temp/0-4.csv\", index_col=[0])\n",
    "df2 = pd.read_csv(\"source/info_temp/4-100.csv\", index_col=[0])\n",
    "df3 = pd.read_csv(\"source/info_temp/101-155.csv\", index_col=[0])\n",
    "df4 = pd.read_csv(\"source/info_temp/156-440.csv\", index_col=[0])\n",
    "df5 = pd.read_csv(\"source/info_temp/441-855.csv\", index_col=[0])\n",
    "df6 = pd.read_csv(\"source/info_temp/856-1368.csv\", index_col=[0])\n",
    "df7 = pd.read_csv(\"source/info_temp/1369-1839.csv\", index_col=[0])\n",
    "df8 = pd.read_csv(\"source/info_temp/1840-1932.csv\", index_col=[0])\n",
    "df9 = pd.read_csv(\"source/info_temp/1933-2025.csv\", index_col=[0])"
   ]
  },
  {
   "cell_type": "code",
   "execution_count": 17,
   "metadata": {},
   "outputs": [
    {
     "name": "stdout",
     "output_type": "stream",
     "text": [
      "<class 'pandas.core.frame.DataFrame'>\n",
      "Index: 1927 entries, 0 to 80\n",
      "Data columns (total 6 columns):\n",
      " #   Column     Non-Null Count  Dtype  \n",
      "---  ------     --------------  -----  \n",
      " 0   id         1926 non-null   float64\n",
      " 1   title      1927 non-null   object \n",
      " 2   price      1927 non-null   object \n",
      " 3   mileage    1927 non-null   object \n",
      " 4   highlight  232 non-null    object \n",
      " 5   overview   1927 non-null   object \n",
      "dtypes: float64(1), object(5)\n",
      "memory usage: 105.4+ KB\n"
     ]
    }
   ],
   "source": [
    "df_all = pd.concat([df1, df2, df3, df4, df5, df6, df7, df8, df9], axis=0).drop_duplicates(subset=['id'], keep='last')\n",
    "df_all.info()"
   ]
  },
  {
   "cell_type": "code",
   "execution_count": 27,
   "metadata": {},
   "outputs": [],
   "source": [
    "df_all = df_all.dropna(subset=['id'])"
   ]
  },
  {
   "cell_type": "code",
   "execution_count": 28,
   "metadata": {},
   "outputs": [
    {
     "name": "stdout",
     "output_type": "stream",
     "text": [
      "<class 'pandas.core.frame.DataFrame'>\n",
      "Index: 1926 entries, 0 to 80\n",
      "Data columns (total 6 columns):\n",
      " #   Column     Non-Null Count  Dtype  \n",
      "---  ------     --------------  -----  \n",
      " 0   id         1926 non-null   float64\n",
      " 1   title      1926 non-null   object \n",
      " 2   price      1926 non-null   object \n",
      " 3   mileage    1926 non-null   object \n",
      " 4   highlight  232 non-null    object \n",
      " 5   overview   1926 non-null   object \n",
      "dtypes: float64(1), object(5)\n",
      "memory usage: 105.3+ KB\n"
     ]
    }
   ],
   "source": [
    "df_all.info()"
   ]
  },
  {
   "cell_type": "code",
   "execution_count": 29,
   "metadata": {},
   "outputs": [],
   "source": [
    "df_all.to_csv(\"source/carmax_product_info.csv\", index=False)"
   ]
  },
  {
   "cell_type": "code",
   "execution_count": null,
   "metadata": {},
   "outputs": [],
   "source": []
  }
 ],
 "metadata": {
  "kernelspec": {
   "display_name": "base",
   "language": "python",
   "name": "python3"
  },
  "language_info": {
   "codemirror_mode": {
    "name": "ipython",
    "version": 3
   },
   "file_extension": ".py",
   "mimetype": "text/x-python",
   "name": "python",
   "nbconvert_exporter": "python",
   "pygments_lexer": "ipython3",
   "version": "3.11.5"
  }
 },
 "nbformat": 4,
 "nbformat_minor": 2
}
